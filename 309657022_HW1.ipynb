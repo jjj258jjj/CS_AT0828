{
 "cells": [
  {
   "cell_type": "markdown",
   "metadata": {},
   "source": [
    "## HW1: Linear Regression using Gradient Descent\n",
    "In hw1, you need to implement linear regression by using only numpy, then train your implemented model by the provided dataset and test the performance with testing data\n",
    "\n",
    "Please note that only **NUMPY** can be used to implement your model, you will get no points by simply calling sklearn.linear_model.LinearRegression"
   ]
  },
  {
   "cell_type": "code",
   "execution_count": 1,
   "metadata": {},
   "outputs": [],
   "source": [
    "import numpy as np \n",
    "import pandas as pd\n",
    "import matplotlib.pyplot as plt"
   ]
  },
  {
   "cell_type": "markdown",
   "metadata": {},
   "source": [
    "## Load data"
   ]
  },
  {
   "cell_type": "code",
   "execution_count": 2,
   "metadata": {},
   "outputs": [],
   "source": [
    "train_df = pd.read_csv(\"train_data.csv\")\n",
    "x_train, y_train = train_df['x_train'], train_df['y_train']\n",
    "test_data = pd.read_csv(\"test_data.csv\")\n",
    "x_test, y_test = test_data['x_test'], test_data['y_test']"
   ]
  },
  {
   "cell_type": "markdown",
   "metadata": {},
   "source": [
    "## Train model \n",
    "### Pseudo code:\n",
    "1. Random initialize the weights, intercepts of the linear model\n",
    "\n",
    "**for i in range(iteration)**\n",
    "\n",
    "    2. Feed foward the training data into the model, get the output prediction\n",
    "    3. Calculating training loss by Mean Square Error of predcition and ground truth data\n",
    "    4. Calculating the gradients\n",
    "    5. Updating the weights and intercepts by the gradients * learning rate \n",
    "    \n",
    "**End of training**"
   ]
  },
  {
   "cell_type": "code",
   "execution_count": 3,
   "metadata": {},
   "outputs": [],
   "source": [
    "def linear_model_gradient_descent(x_train, y_train, learning_rate=1e-4, iteration=100, loss_function=\"MSE\"):\n",
    "    #Random initialize the weights, intercepts of the linear model\n",
    "    weight = np.random.normal(0, np.var(x_train), x_train.ndim+1)\n",
    "    \n",
    "    loss = []\n",
    "    \n",
    "    for i in range(iteration):\n",
    "        #Feed foward the training data into the model, get the output prediction\n",
    "        y_pred = sum([weight[0], weight[1]*x_train]) \n",
    "        \n",
    "        #Calculating training loss by Mean Square Error of predcition and ground truth data\n",
    "        error = y_train - y_pred\n",
    "        n = x_train.shape[0]\n",
    "        loss.append(sum(error**2)/n)\n",
    "        \n",
    "        #Calculating the gradients\n",
    "        gradient = [(-2)*sum(error)/n, (-2)*sum(error*x_train)/n]\n",
    "        \n",
    "        #Updating the weights and intercepts by the gradients * learning rate \n",
    "        weight[0] = weight[0] - gradient[0]*learning_rate\n",
    "        weight[1] = weight[1] - gradient[1]*learning_rate\n",
    "    \n",
    "    #return the values of the least weights and loss of each iteration\n",
    "    return loss, weight"
   ]
  },
  {
   "cell_type": "markdown",
   "metadata": {},
   "source": [
    "1. (15%) Plot the learning curve of the training, you should find that loss decreases after a few iterations (x-axis=iteration, y-axis=loss, Matplotlib or other plot tools is\n",
    "available to use)"
   ]
  },
  {
   "cell_type": "code",
   "execution_count": 10,
   "metadata": {},
   "outputs": [
    {
     "data": {
      "text/plain": [
       "[<matplotlib.lines.Line2D at 0x1959454eb50>]"
      ]
     },
     "execution_count": 10,
     "metadata": {},
     "output_type": "execute_result"
    },
    {
     "data": {
      "image/png": "[encoded data removed]",
      "text/plain": [
       "<Figure size 432x288 with 1 Axes>"
      ]
     },
     "metadata": {
      "needs_background": "light"
     },
     "output_type": "display_data"
    }
   ],
   "source": [
    "model = linear_model_gradient_descent(x_train, y_train, learning_rate=1e-1, iteration=100, loss_function=\"mse\")\n",
    "plt.plot(model[0])"
   ]
  },
  {
   "cell_type": "markdown",
   "metadata": {},
   "source": [
    "## Test the performance on the testing data\n",
    "Inference the test data (x_test) by your model and calculate the MSE of (y_test, y_pred)"
   ]
  },
  {
   "cell_type": "markdown",
   "metadata": {},
   "source": [
    "2. (15%) What’s the Mean Square Error of your prediction and ground truth\n",
    "(prediction=model(x_test), ground truth=y_test)\n"
   ]
  },
  {
   "cell_type": "code",
   "execution_count": 8,
   "metadata": {},
   "outputs": [
    {
     "name": "stdout",
     "output_type": "stream",
     "text": [
      "Mean Square Error=0.06870297322189324\n"
     ]
    }
   ],
   "source": [
    "train_weight = model[1]\n",
    "y_pred = sum([train_weight[0], train_weight[1]*x_test]) \n",
    "mse = sum((y_test - y_pred)**2)/y_test.shape[0]\n",
    "print(\"Mean Square Error=\"+str(mse))"
   ]
  },
  {
   "cell_type": "markdown",
   "metadata": {},
   "source": [
    "3. (15%) What’re the weights and intercepts of your linear model?"
   ]
  },
  {
   "cell_type": "code",
   "execution_count": 9,
   "metadata": {},
   "outputs": [
    {
     "name": "stdout",
     "output_type": "stream",
     "text": [
      "weight=0.8179703769483088 ;intercept=0.7845650819708999\n"
     ]
    }
   ],
   "source": [
    "print(\"weight=\"+str(train_weight[1])+\" ;intercept=\"+str(train_weight[0]))"
   ]
  },
  {
   "cell_type": "markdown",
   "metadata": {},
   "source": [
    "4. (10%) What’s the difference between Gradient Descent, Mini-Batch Gradient\n",
    "Descent, and Stochastic Gradient Descent?"
   ]
  },
  {
   "cell_type": "markdown",
   "metadata": {},
   "source": [
    "Gradient Descent calculates the partial differential of loss function within all data points given, whereas Mini-Batch Gradient Descent is given some data points, which we call it \"batch\", and Stochastic Gradient Descent just given one data point every time. Thererfore, calculating time of each iteration is Gradient Descent > Mini-Batch Gradient Descent > Stochastic Gradient Descent, but the speed of the convergence is Gradient Descent > Mini-Batch Gradient Descent > Stochastic Gradient Descent."
   ]
  }
 ],
 "metadata": {
  "kernelspec": {
   "display_name": "Python 3",
   "language": "python",
   "name": "python3"
  },
  "language_info": {
   "codemirror_mode": {
    "name": "ipython",
    "version": 3
   },
   "file_extension": ".py",
   "mimetype": "text/x-python",
   "name": "python",
   "nbconvert_exporter": "python",
   "pygments_lexer": "ipython3",
   "version": "3.8.5"
  }
 },
 "nbformat": 4,
 "nbformat_minor": 4
}
